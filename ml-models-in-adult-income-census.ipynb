{
 "cells": [
  {
   "cell_type": "code",
   "execution_count": 1,
   "id": "8f3ec3f6",
   "metadata": {
    "_cell_guid": "b1076dfc-b9ad-4769-8c92-a6c4dae69d19",
    "_uuid": "8f2839f25d086af736a60e9eeb907d3b93b6e0e5",
    "execution": {
     "iopub.execute_input": "2023-09-08T09:33:45.303299Z",
     "iopub.status.busy": "2023-09-08T09:33:45.302298Z",
     "iopub.status.idle": "2023-09-08T09:33:45.749754Z",
     "shell.execute_reply": "2023-09-08T09:33:45.748327Z"
    },
    "papermill": {
     "duration": 0.466665,
     "end_time": "2023-09-08T09:33:45.752528",
     "exception": false,
     "start_time": "2023-09-08T09:33:45.285863",
     "status": "completed"
    },
    "tags": []
   },
   "outputs": [],
   "source": [
    "import numpy as np \n",
    "import pandas as pd \n",
    "import os"
   ]
  },
  {
   "cell_type": "markdown",
   "id": "5e2edf5c",
   "metadata": {
    "papermill": {
     "duration": 0.01276,
     "end_time": "2023-09-08T09:33:45.778778",
     "exception": false,
     "start_time": "2023-09-08T09:33:45.766018",
     "status": "completed"
    },
    "tags": []
   },
   "source": [
    "   Rather focusing on EDA I will give priority to various model    \n",
    "    > Logistic regression \n",
    "    > SVM\n",
    "    > XGboost\n",
    "    > Naive Bayes\n",
    "    > Random forest with Gridsearch\n",
    "    \n",
    "    "
   ]
  },
  {
   "cell_type": "code",
   "execution_count": 2,
   "id": "08ed6ce9",
   "metadata": {
    "execution": {
     "iopub.execute_input": "2023-09-08T09:33:45.807736Z",
     "iopub.status.busy": "2023-09-08T09:33:45.807232Z",
     "iopub.status.idle": "2023-09-08T09:33:45.971852Z",
     "shell.execute_reply": "2023-09-08T09:33:45.970575Z"
    },
    "papermill": {
     "duration": 0.182152,
     "end_time": "2023-09-08T09:33:45.974701",
     "exception": false,
     "start_time": "2023-09-08T09:33:45.792549",
     "status": "completed"
    },
    "tags": []
   },
   "outputs": [
    {
     "data": {
      "text/html": [
       "<div>\n",
       "<style scoped>\n",
       "    .dataframe tbody tr th:only-of-type {\n",
       "        vertical-align: middle;\n",
       "    }\n",
       "\n",
       "    .dataframe tbody tr th {\n",
       "        vertical-align: top;\n",
       "    }\n",
       "\n",
       "    .dataframe thead th {\n",
       "        text-align: right;\n",
       "    }\n",
       "</style>\n",
       "<table border=\"1\" class=\"dataframe\">\n",
       "  <thead>\n",
       "    <tr style=\"text-align: right;\">\n",
       "      <th></th>\n",
       "      <th>age</th>\n",
       "      <th>workclass</th>\n",
       "      <th>fnlwgt</th>\n",
       "      <th>education</th>\n",
       "      <th>education.num</th>\n",
       "      <th>marital.status</th>\n",
       "      <th>occupation</th>\n",
       "      <th>relationship</th>\n",
       "      <th>race</th>\n",
       "      <th>sex</th>\n",
       "      <th>native.country</th>\n",
       "      <th>income</th>\n",
       "    </tr>\n",
       "  </thead>\n",
       "  <tbody>\n",
       "    <tr>\n",
       "      <th>18725</th>\n",
       "      <td>40</td>\n",
       "      <td>Private</td>\n",
       "      <td>200574</td>\n",
       "      <td>Assoc-acdm</td>\n",
       "      <td>12</td>\n",
       "      <td>Married-civ-spouse</td>\n",
       "      <td>Tech-support</td>\n",
       "      <td>Husband</td>\n",
       "      <td>White</td>\n",
       "      <td>Male</td>\n",
       "      <td>United-States</td>\n",
       "      <td>&lt;=50K</td>\n",
       "    </tr>\n",
       "    <tr>\n",
       "      <th>28412</th>\n",
       "      <td>57</td>\n",
       "      <td>Self-emp-not-inc</td>\n",
       "      <td>437281</td>\n",
       "      <td>Some-college</td>\n",
       "      <td>10</td>\n",
       "      <td>Married-civ-spouse</td>\n",
       "      <td>Tech-support</td>\n",
       "      <td>Husband</td>\n",
       "      <td>White</td>\n",
       "      <td>Male</td>\n",
       "      <td>United-States</td>\n",
       "      <td>&gt;50K</td>\n",
       "    </tr>\n",
       "    <tr>\n",
       "      <th>4411</th>\n",
       "      <td>23</td>\n",
       "      <td>Private</td>\n",
       "      <td>199336</td>\n",
       "      <td>Assoc-voc</td>\n",
       "      <td>11</td>\n",
       "      <td>Never-married</td>\n",
       "      <td>Craft-repair</td>\n",
       "      <td>Unmarried</td>\n",
       "      <td>White</td>\n",
       "      <td>Male</td>\n",
       "      <td>United-States</td>\n",
       "      <td>&lt;=50K</td>\n",
       "    </tr>\n",
       "    <tr>\n",
       "      <th>30873</th>\n",
       "      <td>66</td>\n",
       "      <td>Private</td>\n",
       "      <td>166461</td>\n",
       "      <td>11th</td>\n",
       "      <td>7</td>\n",
       "      <td>Married-civ-spouse</td>\n",
       "      <td>Sales</td>\n",
       "      <td>Husband</td>\n",
       "      <td>White</td>\n",
       "      <td>Male</td>\n",
       "      <td>United-States</td>\n",
       "      <td>&lt;=50K</td>\n",
       "    </tr>\n",
       "    <tr>\n",
       "      <th>10195</th>\n",
       "      <td>30</td>\n",
       "      <td>Private</td>\n",
       "      <td>310889</td>\n",
       "      <td>Assoc-voc</td>\n",
       "      <td>11</td>\n",
       "      <td>Married-civ-spouse</td>\n",
       "      <td>Exec-managerial</td>\n",
       "      <td>Husband</td>\n",
       "      <td>White</td>\n",
       "      <td>Male</td>\n",
       "      <td>United-States</td>\n",
       "      <td>&gt;50K</td>\n",
       "    </tr>\n",
       "  </tbody>\n",
       "</table>\n",
       "</div>"
      ],
      "text/plain": [
       "       age         workclass  fnlwgt     education  education.num  \\\n",
       "18725   40           Private  200574    Assoc-acdm             12   \n",
       "28412   57  Self-emp-not-inc  437281  Some-college             10   \n",
       "4411    23           Private  199336     Assoc-voc             11   \n",
       "30873   66           Private  166461          11th              7   \n",
       "10195   30           Private  310889     Assoc-voc             11   \n",
       "\n",
       "           marital.status       occupation relationship   race   sex  \\\n",
       "18725  Married-civ-spouse     Tech-support      Husband  White  Male   \n",
       "28412  Married-civ-spouse     Tech-support      Husband  White  Male   \n",
       "4411        Never-married     Craft-repair    Unmarried  White  Male   \n",
       "30873  Married-civ-spouse            Sales      Husband  White  Male   \n",
       "10195  Married-civ-spouse  Exec-managerial      Husband  White  Male   \n",
       "\n",
       "      native.country income  \n",
       "18725  United-States  <=50K  \n",
       "28412  United-States   >50K  \n",
       "4411   United-States  <=50K  \n",
       "30873  United-States  <=50K  \n",
       "10195  United-States   >50K  "
      ]
     },
     "execution_count": 2,
     "metadata": {},
     "output_type": "execute_result"
    }
   ],
   "source": [
    "import pandas as pd\n",
    "data_path = os.path.join('data/adult income1.csv')\n",
    "df = pd.read_csv(data_path)\n",
    "df.sample(5)"
   ]
  },
  {
   "cell_type": "code",
   "execution_count": 3,
   "id": "66b72501",
   "metadata": {
    "execution": {
     "iopub.execute_input": "2023-09-08T09:33:46.003990Z",
     "iopub.status.busy": "2023-09-08T09:33:46.003437Z",
     "iopub.status.idle": "2023-09-08T09:33:46.014422Z",
     "shell.execute_reply": "2023-09-08T09:33:46.012779Z"
    },
    "papermill": {
     "duration": 0.028623,
     "end_time": "2023-09-08T09:33:46.016997",
     "exception": false,
     "start_time": "2023-09-08T09:33:45.988374",
     "status": "completed"
    },
    "tags": []
   },
   "outputs": [
    {
     "data": {
      "text/plain": [
       "Index(['age', 'workclass', 'fnlwgt', 'education', 'education.num',\n",
       "       'marital.status', 'occupation', 'relationship', 'race', 'sex',\n",
       "       'native.country', 'income'],\n",
       "      dtype='object')"
      ]
     },
     "execution_count": 3,
     "metadata": {},
     "output_type": "execute_result"
    }
   ],
   "source": [
    "df.columns"
   ]
  },
  {
   "cell_type": "code",
   "execution_count": 4,
   "id": "0b58f6fe",
   "metadata": {
    "execution": {
     "iopub.execute_input": "2023-09-08T09:33:46.046540Z",
     "iopub.status.busy": "2023-09-08T09:33:46.045904Z",
     "iopub.status.idle": "2023-09-08T09:33:46.086457Z",
     "shell.execute_reply": "2023-09-08T09:33:46.085175Z"
    },
    "papermill": {
     "duration": 0.05828,
     "end_time": "2023-09-08T09:33:46.089153",
     "exception": false,
     "start_time": "2023-09-08T09:33:46.030873",
     "status": "completed"
    },
    "tags": []
   },
   "outputs": [
    {
     "data": {
      "text/plain": [
       "age               0\n",
       "workclass         0\n",
       "fnlwgt            0\n",
       "education         0\n",
       "education.num     0\n",
       "marital.status    0\n",
       "occupation        0\n",
       "relationship      0\n",
       "race              0\n",
       "sex               0\n",
       "native.country    0\n",
       "income            0\n",
       "dtype: int64"
      ]
     },
     "execution_count": 4,
     "metadata": {},
     "output_type": "execute_result"
    }
   ],
   "source": [
    "df.isnull().sum()"
   ]
  },
  {
   "cell_type": "markdown",
   "id": "ad903833",
   "metadata": {
    "execution": {
     "iopub.execute_input": "2023-09-08T08:43:56.366794Z",
     "iopub.status.busy": "2023-09-08T08:43:56.366396Z",
     "iopub.status.idle": "2023-09-08T08:43:56.375297Z",
     "shell.execute_reply": "2023-09-08T08:43:56.373279Z",
     "shell.execute_reply.started": "2023-09-08T08:43:56.366762Z"
    },
    "papermill": {
     "duration": 0.013626,
     "end_time": "2023-09-08T09:33:46.116933",
     "exception": false,
     "start_time": "2023-09-08T09:33:46.103307",
     "status": "completed"
    },
    "tags": []
   },
   "source": [
    "Wow Looks Clean!            \n",
    "\n",
    "But wait something not right in there, Yes \"?\" it is"
   ]
  },
  {
   "cell_type": "code",
   "execution_count": 5,
   "id": "33bbb4f9",
   "metadata": {
    "execution": {
     "iopub.execute_input": "2023-09-08T09:33:46.147495Z",
     "iopub.status.busy": "2023-09-08T09:33:46.147072Z",
     "iopub.status.idle": "2023-09-08T09:33:46.159789Z",
     "shell.execute_reply": "2023-09-08T09:33:46.158405Z"
    },
    "papermill": {
     "duration": 0.030946,
     "end_time": "2023-09-08T09:33:46.162532",
     "exception": false,
     "start_time": "2023-09-08T09:33:46.131586",
     "status": "completed"
    },
    "tags": []
   },
   "outputs": [
    {
     "name": "stdout",
     "output_type": "stream",
     "text": [
      "Number of rows with '?' in 'workclass' column: 1778\n"
     ]
    }
   ],
   "source": [
    "# Count the number of rows where 'workclass' column is equal to '?'\n",
    "question_mark_count = (df['workclass'] == '?').sum()\n",
    "\n",
    "# Print the count\n",
    "print(\"Number of rows with '?' in 'workclass' column:\", question_mark_count)\n"
   ]
  },
  {
   "cell_type": "code",
   "execution_count": 6,
   "id": "4a351104",
   "metadata": {
    "execution": {
     "iopub.execute_input": "2023-09-08T09:33:46.194249Z",
     "iopub.status.busy": "2023-09-08T09:33:46.193107Z",
     "iopub.status.idle": "2023-09-08T09:33:46.249525Z",
     "shell.execute_reply": "2023-09-08T09:33:46.248248Z"
    },
    "papermill": {
     "duration": 0.076005,
     "end_time": "2023-09-08T09:33:46.252521",
     "exception": false,
     "start_time": "2023-09-08T09:33:46.176516",
     "status": "completed"
    },
    "tags": []
   },
   "outputs": [
    {
     "name": "stdout",
     "output_type": "stream",
     "text": [
      "Number of rows with '?' in 'workclass' column: age                  0\n",
      "workclass         1778\n",
      "fnlwgt               0\n",
      "education            0\n",
      "education.num        0\n",
      "marital.status       0\n",
      "occupation        1785\n",
      "relationship         0\n",
      "race                 0\n",
      "sex                  0\n",
      "native.country      25\n",
      "income               0\n",
      "dtype: int64\n"
     ]
    }
   ],
   "source": [
    "# Count the number of rows where 'workclass' column is equal to '?'\n",
    "question_mark_count = (df == '?').sum()\n",
    "\n",
    "# Print the count\n",
    "print(\"Number of rows with '?' in 'workclass' column:\", question_mark_count)\n"
   ]
  },
  {
   "cell_type": "code",
   "execution_count": 7,
   "id": "03ca0f38",
   "metadata": {
    "execution": {
     "iopub.execute_input": "2023-09-08T09:33:46.283024Z",
     "iopub.status.busy": "2023-09-08T09:33:46.282568Z",
     "iopub.status.idle": "2023-09-08T09:33:46.308439Z",
     "shell.execute_reply": "2023-09-08T09:33:46.307008Z"
    },
    "papermill": {
     "duration": 0.044031,
     "end_time": "2023-09-08T09:33:46.311126",
     "exception": false,
     "start_time": "2023-09-08T09:33:46.267095",
     "status": "completed"
    },
    "tags": []
   },
   "outputs": [
    {
     "name": "stdout",
     "output_type": "stream",
     "text": [
      "Number of rows with '?' in 'workclass' column: 25\n"
     ]
    }
   ],
   "source": [
    "# Count the number of rows where 'workclass' column is equal to '?'\n",
    "question_mark_count = ((df['workclass'] == '?') & (df['occupation'] == '?')& (df['native.country'] == '?')).sum()\n",
    "\n",
    "# Print the count\n",
    "print(\"Number of rows with '?' in 'workclass' column:\", question_mark_count)\n"
   ]
  },
  {
   "cell_type": "markdown",
   "id": "225b90a4",
   "metadata": {
    "papermill": {
     "duration": 0.013827,
     "end_time": "2023-09-08T09:33:46.339714",
     "exception": false,
     "start_time": "2023-09-08T09:33:46.325887",
     "status": "completed"
    },
    "tags": []
   },
   "source": [
    "So it means that the column \"occupation\" has the most rows with \"?\" and those rows may have other columns \"?\" or not"
   ]
  },
  {
   "cell_type": "code",
   "execution_count": 8,
   "id": "9252afd3",
   "metadata": {
    "execution": {
     "iopub.execute_input": "2023-09-08T09:33:46.371457Z",
     "iopub.status.busy": "2023-09-08T09:33:46.370320Z",
     "iopub.status.idle": "2023-09-08T09:33:46.399354Z",
     "shell.execute_reply": "2023-09-08T09:33:46.398186Z"
    },
    "papermill": {
     "duration": 0.047122,
     "end_time": "2023-09-08T09:33:46.401842",
     "exception": false,
     "start_time": "2023-09-08T09:33:46.354720",
     "status": "completed"
    },
    "tags": []
   },
   "outputs": [
    {
     "data": {
      "text/html": [
       "<div>\n",
       "<style scoped>\n",
       "    .dataframe tbody tr th:only-of-type {\n",
       "        vertical-align: middle;\n",
       "    }\n",
       "\n",
       "    .dataframe tbody tr th {\n",
       "        vertical-align: top;\n",
       "    }\n",
       "\n",
       "    .dataframe thead th {\n",
       "        text-align: right;\n",
       "    }\n",
       "</style>\n",
       "<table border=\"1\" class=\"dataframe\">\n",
       "  <thead>\n",
       "    <tr style=\"text-align: right;\">\n",
       "      <th></th>\n",
       "      <th>age</th>\n",
       "      <th>workclass</th>\n",
       "      <th>fnlwgt</th>\n",
       "      <th>education</th>\n",
       "      <th>education.num</th>\n",
       "      <th>marital.status</th>\n",
       "      <th>occupation</th>\n",
       "      <th>relationship</th>\n",
       "      <th>race</th>\n",
       "      <th>sex</th>\n",
       "      <th>native.country</th>\n",
       "      <th>income</th>\n",
       "    </tr>\n",
       "  </thead>\n",
       "  <tbody>\n",
       "    <tr>\n",
       "      <th>0</th>\n",
       "      <td>17</td>\n",
       "      <td>Private</td>\n",
       "      <td>148522</td>\n",
       "      <td>11th</td>\n",
       "      <td>7</td>\n",
       "      <td>Never-married</td>\n",
       "      <td>occupation</td>\n",
       "      <td>Own-child</td>\n",
       "      <td>White</td>\n",
       "      <td>Male</td>\n",
       "      <td>United-States</td>\n",
       "      <td>&lt;=50K</td>\n",
       "    </tr>\n",
       "    <tr>\n",
       "      <th>1</th>\n",
       "      <td>17</td>\n",
       "      <td>Private</td>\n",
       "      <td>93235</td>\n",
       "      <td>12th</td>\n",
       "      <td>8</td>\n",
       "      <td>Never-married</td>\n",
       "      <td>occupation</td>\n",
       "      <td>Own-child</td>\n",
       "      <td>White</td>\n",
       "      <td>Female</td>\n",
       "      <td>United-States</td>\n",
       "      <td>&lt;=50K</td>\n",
       "    </tr>\n",
       "    <tr>\n",
       "      <th>2</th>\n",
       "      <td>17</td>\n",
       "      <td>Private</td>\n",
       "      <td>184924</td>\n",
       "      <td>9th</td>\n",
       "      <td>5</td>\n",
       "      <td>Never-married</td>\n",
       "      <td>occupation</td>\n",
       "      <td>Own-child</td>\n",
       "      <td>White</td>\n",
       "      <td>Male</td>\n",
       "      <td>United-States</td>\n",
       "      <td>&lt;=50K</td>\n",
       "    </tr>\n",
       "    <tr>\n",
       "      <th>3</th>\n",
       "      <td>17</td>\n",
       "      <td>Private</td>\n",
       "      <td>116626</td>\n",
       "      <td>11th</td>\n",
       "      <td>7</td>\n",
       "      <td>Never-married</td>\n",
       "      <td>occupation</td>\n",
       "      <td>Own-child</td>\n",
       "      <td>White</td>\n",
       "      <td>Male</td>\n",
       "      <td>United-States</td>\n",
       "      <td>&lt;=50K</td>\n",
       "    </tr>\n",
       "    <tr>\n",
       "      <th>4</th>\n",
       "      <td>17</td>\n",
       "      <td>Private</td>\n",
       "      <td>209949</td>\n",
       "      <td>11th</td>\n",
       "      <td>7</td>\n",
       "      <td>Never-married</td>\n",
       "      <td>occupation</td>\n",
       "      <td>Own-child</td>\n",
       "      <td>White</td>\n",
       "      <td>Female</td>\n",
       "      <td>United-States</td>\n",
       "      <td>&lt;=50K</td>\n",
       "    </tr>\n",
       "  </tbody>\n",
       "</table>\n",
       "</div>"
      ],
      "text/plain": [
       "   age workclass  fnlwgt education  education.num marital.status  occupation  \\\n",
       "0   17   Private  148522      11th              7  Never-married  occupation   \n",
       "1   17   Private   93235      12th              8  Never-married  occupation   \n",
       "2   17   Private  184924       9th              5  Never-married  occupation   \n",
       "3   17   Private  116626      11th              7  Never-married  occupation   \n",
       "4   17   Private  209949      11th              7  Never-married  occupation   \n",
       "\n",
       "  relationship   race     sex native.country income  \n",
       "0    Own-child  White    Male  United-States  <=50K  \n",
       "1    Own-child  White  Female  United-States  <=50K  \n",
       "2    Own-child  White    Male  United-States  <=50K  \n",
       "3    Own-child  White    Male  United-States  <=50K  \n",
       "4    Own-child  White  Female  United-States  <=50K  "
      ]
     },
     "execution_count": 8,
     "metadata": {},
     "output_type": "execute_result"
    }
   ],
   "source": [
    "df1=df[df['occupation']!='?']\n",
    "df1.head()"
   ]
  },
  {
   "cell_type": "code",
   "execution_count": 9,
   "id": "9c8235a8",
   "metadata": {
    "execution": {
     "iopub.execute_input": "2023-09-08T09:33:46.433486Z",
     "iopub.status.busy": "2023-09-08T09:33:46.432617Z",
     "iopub.status.idle": "2023-09-08T09:33:46.440741Z",
     "shell.execute_reply": "2023-09-08T09:33:46.439242Z"
    },
    "papermill": {
     "duration": 0.026466,
     "end_time": "2023-09-08T09:33:46.443182",
     "exception": false,
     "start_time": "2023-09-08T09:33:46.416716",
     "status": "completed"
    },
    "tags": []
   },
   "outputs": [
    {
     "data": {
      "text/plain": [
       "((31947, 12), (30162, 12))"
      ]
     },
     "execution_count": 9,
     "metadata": {},
     "output_type": "execute_result"
    }
   ],
   "source": [
    "df.shape,df1.shape"
   ]
  },
  {
   "cell_type": "markdown",
   "id": "a058c2ee",
   "metadata": {
    "papermill": {
     "duration": 0.014274,
     "end_time": "2023-09-08T09:33:46.472317",
     "exception": false,
     "start_time": "2023-09-08T09:33:46.458043",
     "status": "completed"
    },
    "tags": []
   },
   "source": [
    "Now we can change column \"income\" to binary values like income is 1 when \">50k\" "
   ]
  },
  {
   "cell_type": "code",
   "execution_count": 10,
   "id": "bc768cdb",
   "metadata": {
    "execution": {
     "iopub.execute_input": "2023-09-08T09:33:46.504571Z",
     "iopub.status.busy": "2023-09-08T09:33:46.503731Z",
     "iopub.status.idle": "2023-09-08T09:33:46.552371Z",
     "shell.execute_reply": "2023-09-08T09:33:46.551189Z"
    },
    "papermill": {
     "duration": 0.067564,
     "end_time": "2023-09-08T09:33:46.555014",
     "exception": false,
     "start_time": "2023-09-08T09:33:46.487450",
     "status": "completed"
    },
    "tags": []
   },
   "outputs": [
    {
     "data": {
      "text/html": [
       "<div>\n",
       "<style scoped>\n",
       "    .dataframe tbody tr th:only-of-type {\n",
       "        vertical-align: middle;\n",
       "    }\n",
       "\n",
       "    .dataframe tbody tr th {\n",
       "        vertical-align: top;\n",
       "    }\n",
       "\n",
       "    .dataframe thead th {\n",
       "        text-align: right;\n",
       "    }\n",
       "</style>\n",
       "<table border=\"1\" class=\"dataframe\">\n",
       "  <thead>\n",
       "    <tr style=\"text-align: right;\">\n",
       "      <th></th>\n",
       "      <th>age</th>\n",
       "      <th>workclass</th>\n",
       "      <th>fnlwgt</th>\n",
       "      <th>education</th>\n",
       "      <th>education.num</th>\n",
       "      <th>marital.status</th>\n",
       "      <th>occupation</th>\n",
       "      <th>relationship</th>\n",
       "      <th>race</th>\n",
       "      <th>sex</th>\n",
       "      <th>native.country</th>\n",
       "      <th>income</th>\n",
       "    </tr>\n",
       "  </thead>\n",
       "  <tbody>\n",
       "    <tr>\n",
       "      <th>0</th>\n",
       "      <td>17</td>\n",
       "      <td>Private</td>\n",
       "      <td>148522</td>\n",
       "      <td>11th</td>\n",
       "      <td>7</td>\n",
       "      <td>Never-married</td>\n",
       "      <td>occupation</td>\n",
       "      <td>Own-child</td>\n",
       "      <td>White</td>\n",
       "      <td>Male</td>\n",
       "      <td>United-States</td>\n",
       "      <td>0</td>\n",
       "    </tr>\n",
       "    <tr>\n",
       "      <th>1</th>\n",
       "      <td>17</td>\n",
       "      <td>Private</td>\n",
       "      <td>93235</td>\n",
       "      <td>12th</td>\n",
       "      <td>8</td>\n",
       "      <td>Never-married</td>\n",
       "      <td>occupation</td>\n",
       "      <td>Own-child</td>\n",
       "      <td>White</td>\n",
       "      <td>Female</td>\n",
       "      <td>United-States</td>\n",
       "      <td>0</td>\n",
       "    </tr>\n",
       "    <tr>\n",
       "      <th>2</th>\n",
       "      <td>17</td>\n",
       "      <td>Private</td>\n",
       "      <td>184924</td>\n",
       "      <td>9th</td>\n",
       "      <td>5</td>\n",
       "      <td>Never-married</td>\n",
       "      <td>occupation</td>\n",
       "      <td>Own-child</td>\n",
       "      <td>White</td>\n",
       "      <td>Male</td>\n",
       "      <td>United-States</td>\n",
       "      <td>0</td>\n",
       "    </tr>\n",
       "    <tr>\n",
       "      <th>3</th>\n",
       "      <td>17</td>\n",
       "      <td>Private</td>\n",
       "      <td>116626</td>\n",
       "      <td>11th</td>\n",
       "      <td>7</td>\n",
       "      <td>Never-married</td>\n",
       "      <td>occupation</td>\n",
       "      <td>Own-child</td>\n",
       "      <td>White</td>\n",
       "      <td>Male</td>\n",
       "      <td>United-States</td>\n",
       "      <td>0</td>\n",
       "    </tr>\n",
       "    <tr>\n",
       "      <th>4</th>\n",
       "      <td>17</td>\n",
       "      <td>Private</td>\n",
       "      <td>209949</td>\n",
       "      <td>11th</td>\n",
       "      <td>7</td>\n",
       "      <td>Never-married</td>\n",
       "      <td>occupation</td>\n",
       "      <td>Own-child</td>\n",
       "      <td>White</td>\n",
       "      <td>Female</td>\n",
       "      <td>United-States</td>\n",
       "      <td>0</td>\n",
       "    </tr>\n",
       "  </tbody>\n",
       "</table>\n",
       "</div>"
      ],
      "text/plain": [
       "   age workclass  fnlwgt education  education.num marital.status  occupation  \\\n",
       "0   17   Private  148522      11th              7  Never-married  occupation   \n",
       "1   17   Private   93235      12th              8  Never-married  occupation   \n",
       "2   17   Private  184924       9th              5  Never-married  occupation   \n",
       "3   17   Private  116626      11th              7  Never-married  occupation   \n",
       "4   17   Private  209949      11th              7  Never-married  occupation   \n",
       "\n",
       "  relationship   race     sex native.country  income  \n",
       "0    Own-child  White    Male  United-States       0  \n",
       "1    Own-child  White  Female  United-States       0  \n",
       "2    Own-child  White    Male  United-States       0  \n",
       "3    Own-child  White    Male  United-States       0  \n",
       "4    Own-child  White  Female  United-States       0  "
      ]
     },
     "execution_count": 10,
     "metadata": {},
     "output_type": "execute_result"
    }
   ],
   "source": [
    "df2=df1.copy()\n",
    "df2['income'] = df1['income'].apply(lambda x: 1 if x == '>50K' else 0)\n",
    "df2.head()"
   ]
  },
  {
   "cell_type": "markdown",
   "id": "cf21417c",
   "metadata": {
    "papermill": {
     "duration": 0.014778,
     "end_time": "2023-09-08T09:33:46.585171",
     "exception": false,
     "start_time": "2023-09-08T09:33:46.570393",
     "status": "completed"
    },
    "tags": []
   },
   "source": [
    "Now for other categorical values we have to use dummies as usual"
   ]
  },
  {
   "cell_type": "code",
   "execution_count": 11,
   "id": "d53d1714",
   "metadata": {
    "execution": {
     "iopub.execute_input": "2023-09-08T09:33:46.616818Z",
     "iopub.status.busy": "2023-09-08T09:33:46.616397Z",
     "iopub.status.idle": "2023-09-08T09:33:46.720333Z",
     "shell.execute_reply": "2023-09-08T09:33:46.718903Z"
    },
    "papermill": {
     "duration": 0.122619,
     "end_time": "2023-09-08T09:33:46.722844",
     "exception": false,
     "start_time": "2023-09-08T09:33:46.600225",
     "status": "completed"
    },
    "tags": []
   },
   "outputs": [
    {
     "data": {
      "text/html": [
       "<div>\n",
       "<style scoped>\n",
       "    .dataframe tbody tr th:only-of-type {\n",
       "        vertical-align: middle;\n",
       "    }\n",
       "\n",
       "    .dataframe tbody tr th {\n",
       "        vertical-align: top;\n",
       "    }\n",
       "\n",
       "    .dataframe thead th {\n",
       "        text-align: right;\n",
       "    }\n",
       "</style>\n",
       "<table border=\"1\" class=\"dataframe\">\n",
       "  <thead>\n",
       "    <tr style=\"text-align: right;\">\n",
       "      <th></th>\n",
       "      <th>age</th>\n",
       "      <th>fnlwgt</th>\n",
       "      <th>education.num</th>\n",
       "      <th>income</th>\n",
       "      <th>workclass_Local-gov</th>\n",
       "      <th>workclass_Private</th>\n",
       "      <th>workclass_Self-emp-inc</th>\n",
       "      <th>workclass_Self-emp-not-inc</th>\n",
       "      <th>workclass_State-gov</th>\n",
       "      <th>workclass_Without-pay</th>\n",
       "      <th>...</th>\n",
       "      <th>native.country_Portugal</th>\n",
       "      <th>native.country_Puerto-Rico</th>\n",
       "      <th>native.country_Scotland</th>\n",
       "      <th>native.country_South</th>\n",
       "      <th>native.country_Taiwan</th>\n",
       "      <th>native.country_Thailand</th>\n",
       "      <th>native.country_Trinadad&amp;Tobago</th>\n",
       "      <th>native.country_United-States</th>\n",
       "      <th>native.country_Vietnam</th>\n",
       "      <th>native.country_Yugoslavia</th>\n",
       "    </tr>\n",
       "  </thead>\n",
       "  <tbody>\n",
       "    <tr>\n",
       "      <th>0</th>\n",
       "      <td>17</td>\n",
       "      <td>148522</td>\n",
       "      <td>7</td>\n",
       "      <td>0</td>\n",
       "      <td>0</td>\n",
       "      <td>1</td>\n",
       "      <td>0</td>\n",
       "      <td>0</td>\n",
       "      <td>0</td>\n",
       "      <td>0</td>\n",
       "      <td>...</td>\n",
       "      <td>0</td>\n",
       "      <td>0</td>\n",
       "      <td>0</td>\n",
       "      <td>0</td>\n",
       "      <td>0</td>\n",
       "      <td>0</td>\n",
       "      <td>0</td>\n",
       "      <td>1</td>\n",
       "      <td>0</td>\n",
       "      <td>0</td>\n",
       "    </tr>\n",
       "    <tr>\n",
       "      <th>1</th>\n",
       "      <td>17</td>\n",
       "      <td>93235</td>\n",
       "      <td>8</td>\n",
       "      <td>0</td>\n",
       "      <td>0</td>\n",
       "      <td>1</td>\n",
       "      <td>0</td>\n",
       "      <td>0</td>\n",
       "      <td>0</td>\n",
       "      <td>0</td>\n",
       "      <td>...</td>\n",
       "      <td>0</td>\n",
       "      <td>0</td>\n",
       "      <td>0</td>\n",
       "      <td>0</td>\n",
       "      <td>0</td>\n",
       "      <td>0</td>\n",
       "      <td>0</td>\n",
       "      <td>1</td>\n",
       "      <td>0</td>\n",
       "      <td>0</td>\n",
       "    </tr>\n",
       "    <tr>\n",
       "      <th>2</th>\n",
       "      <td>17</td>\n",
       "      <td>184924</td>\n",
       "      <td>5</td>\n",
       "      <td>0</td>\n",
       "      <td>0</td>\n",
       "      <td>1</td>\n",
       "      <td>0</td>\n",
       "      <td>0</td>\n",
       "      <td>0</td>\n",
       "      <td>0</td>\n",
       "      <td>...</td>\n",
       "      <td>0</td>\n",
       "      <td>0</td>\n",
       "      <td>0</td>\n",
       "      <td>0</td>\n",
       "      <td>0</td>\n",
       "      <td>0</td>\n",
       "      <td>0</td>\n",
       "      <td>1</td>\n",
       "      <td>0</td>\n",
       "      <td>0</td>\n",
       "    </tr>\n",
       "    <tr>\n",
       "      <th>3</th>\n",
       "      <td>17</td>\n",
       "      <td>116626</td>\n",
       "      <td>7</td>\n",
       "      <td>0</td>\n",
       "      <td>0</td>\n",
       "      <td>1</td>\n",
       "      <td>0</td>\n",
       "      <td>0</td>\n",
       "      <td>0</td>\n",
       "      <td>0</td>\n",
       "      <td>...</td>\n",
       "      <td>0</td>\n",
       "      <td>0</td>\n",
       "      <td>0</td>\n",
       "      <td>0</td>\n",
       "      <td>0</td>\n",
       "      <td>0</td>\n",
       "      <td>0</td>\n",
       "      <td>1</td>\n",
       "      <td>0</td>\n",
       "      <td>0</td>\n",
       "    </tr>\n",
       "    <tr>\n",
       "      <th>4</th>\n",
       "      <td>17</td>\n",
       "      <td>209949</td>\n",
       "      <td>7</td>\n",
       "      <td>0</td>\n",
       "      <td>0</td>\n",
       "      <td>1</td>\n",
       "      <td>0</td>\n",
       "      <td>0</td>\n",
       "      <td>0</td>\n",
       "      <td>0</td>\n",
       "      <td>...</td>\n",
       "      <td>0</td>\n",
       "      <td>0</td>\n",
       "      <td>0</td>\n",
       "      <td>0</td>\n",
       "      <td>0</td>\n",
       "      <td>0</td>\n",
       "      <td>0</td>\n",
       "      <td>1</td>\n",
       "      <td>0</td>\n",
       "      <td>0</td>\n",
       "    </tr>\n",
       "  </tbody>\n",
       "</table>\n",
       "<p>5 rows × 95 columns</p>\n",
       "</div>"
      ],
      "text/plain": [
       "   age  fnlwgt  education.num  income  workclass_Local-gov  workclass_Private  \\\n",
       "0   17  148522              7       0                    0                  1   \n",
       "1   17   93235              8       0                    0                  1   \n",
       "2   17  184924              5       0                    0                  1   \n",
       "3   17  116626              7       0                    0                  1   \n",
       "4   17  209949              7       0                    0                  1   \n",
       "\n",
       "   workclass_Self-emp-inc  workclass_Self-emp-not-inc  workclass_State-gov  \\\n",
       "0                       0                           0                    0   \n",
       "1                       0                           0                    0   \n",
       "2                       0                           0                    0   \n",
       "3                       0                           0                    0   \n",
       "4                       0                           0                    0   \n",
       "\n",
       "   workclass_Without-pay  ...  native.country_Portugal  \\\n",
       "0                      0  ...                        0   \n",
       "1                      0  ...                        0   \n",
       "2                      0  ...                        0   \n",
       "3                      0  ...                        0   \n",
       "4                      0  ...                        0   \n",
       "\n",
       "   native.country_Puerto-Rico  native.country_Scotland  native.country_South  \\\n",
       "0                           0                        0                     0   \n",
       "1                           0                        0                     0   \n",
       "2                           0                        0                     0   \n",
       "3                           0                        0                     0   \n",
       "4                           0                        0                     0   \n",
       "\n",
       "   native.country_Taiwan  native.country_Thailand  \\\n",
       "0                      0                        0   \n",
       "1                      0                        0   \n",
       "2                      0                        0   \n",
       "3                      0                        0   \n",
       "4                      0                        0   \n",
       "\n",
       "   native.country_Trinadad&Tobago  native.country_United-States  \\\n",
       "0                               0                             1   \n",
       "1                               0                             1   \n",
       "2                               0                             1   \n",
       "3                               0                             1   \n",
       "4                               0                             1   \n",
       "\n",
       "   native.country_Vietnam  native.country_Yugoslavia  \n",
       "0                       0                          0  \n",
       "1                       0                          0  \n",
       "2                       0                          0  \n",
       "3                       0                          0  \n",
       "4                       0                          0  \n",
       "\n",
       "[5 rows x 95 columns]"
      ]
     },
     "execution_count": 11,
     "metadata": {},
     "output_type": "execute_result"
    }
   ],
   "source": [
    "categorical_cols = ['workclass', 'education', 'marital.status', 'occupation', 'relationship', 'race', 'sex', 'native.country']\n",
    "df3=df2.copy()\n",
    "df3 = pd.get_dummies(df2, columns=categorical_cols, drop_first=True)\n",
    "df3.head()"
   ]
  },
  {
   "cell_type": "markdown",
   "id": "1fbaba21",
   "metadata": {
    "papermill": {
     "duration": 0.015183,
     "end_time": "2023-09-08T09:33:46.753825",
     "exception": false,
     "start_time": "2023-09-08T09:33:46.738642",
     "status": "completed"
    },
    "tags": []
   },
   "source": [
    "Lets start predicting session---"
   ]
  },
  {
   "cell_type": "code",
   "execution_count": 12,
   "id": "076508aa",
   "metadata": {
    "execution": {
     "iopub.execute_input": "2023-09-08T09:33:46.786885Z",
     "iopub.status.busy": "2023-09-08T09:33:46.786483Z",
     "iopub.status.idle": "2023-09-08T09:33:46.795594Z",
     "shell.execute_reply": "2023-09-08T09:33:46.794265Z"
    },
    "papermill": {
     "duration": 0.028702,
     "end_time": "2023-09-08T09:33:46.798156",
     "exception": false,
     "start_time": "2023-09-08T09:33:46.769454",
     "status": "completed"
    },
    "tags": []
   },
   "outputs": [],
   "source": [
    "X = df3.drop(columns=['income'])\n",
    "y = df3.income"
   ]
  },
  {
   "cell_type": "code",
   "execution_count": 13,
   "id": "dd523d2e",
   "metadata": {
    "execution": {
     "iopub.execute_input": "2023-09-08T09:33:46.831002Z",
     "iopub.status.busy": "2023-09-08T09:33:46.830529Z",
     "iopub.status.idle": "2023-09-08T09:33:46.838199Z",
     "shell.execute_reply": "2023-09-08T09:33:46.836992Z"
    },
    "papermill": {
     "duration": 0.027056,
     "end_time": "2023-09-08T09:33:46.840755",
     "exception": false,
     "start_time": "2023-09-08T09:33:46.813699",
     "status": "completed"
    },
    "tags": []
   },
   "outputs": [
    {
     "data": {
      "text/plain": [
       "((30162, 94), (30162,))"
      ]
     },
     "execution_count": 13,
     "metadata": {},
     "output_type": "execute_result"
    }
   ],
   "source": [
    "X.shape,y.shape"
   ]
  },
  {
   "cell_type": "code",
   "execution_count": 14,
   "id": "aeb0480f",
   "metadata": {
    "execution": {
     "iopub.execute_input": "2023-09-08T09:33:46.873888Z",
     "iopub.status.busy": "2023-09-08T09:33:46.873489Z",
     "iopub.status.idle": "2023-09-08T09:33:48.287654Z",
     "shell.execute_reply": "2023-09-08T09:33:48.286364Z"
    },
    "papermill": {
     "duration": 1.434203,
     "end_time": "2023-09-08T09:33:48.290679",
     "exception": false,
     "start_time": "2023-09-08T09:33:46.856476",
     "status": "completed"
    },
    "tags": []
   },
   "outputs": [],
   "source": [
    "from sklearn.model_selection import train_test_split,GridSearchCV"
   ]
  },
  {
   "cell_type": "code",
   "execution_count": 15,
   "id": "cde44823",
   "metadata": {
    "execution": {
     "iopub.execute_input": "2023-09-08T09:33:48.325327Z",
     "iopub.status.busy": "2023-09-08T09:33:48.324896Z",
     "iopub.status.idle": "2023-09-08T09:33:48.344140Z",
     "shell.execute_reply": "2023-09-08T09:33:48.342678Z"
    },
    "papermill": {
     "duration": 0.039764,
     "end_time": "2023-09-08T09:33:48.347171",
     "exception": false,
     "start_time": "2023-09-08T09:33:48.307407",
     "status": "completed"
    },
    "tags": []
   },
   "outputs": [],
   "source": [
    "X_train, X_test, y_train, y_test = train_test_split(X, y, test_size=0.2, random_state=42)"
   ]
  },
  {
   "cell_type": "code",
   "execution_count": 16,
   "id": "17a51048",
   "metadata": {
    "execution": {
     "iopub.execute_input": "2023-09-08T09:33:48.381218Z",
     "iopub.status.busy": "2023-09-08T09:33:48.380771Z",
     "iopub.status.idle": "2023-09-08T09:33:48.388864Z",
     "shell.execute_reply": "2023-09-08T09:33:48.387715Z"
    },
    "papermill": {
     "duration": 0.028535,
     "end_time": "2023-09-08T09:33:48.391423",
     "exception": false,
     "start_time": "2023-09-08T09:33:48.362888",
     "status": "completed"
    },
    "tags": []
   },
   "outputs": [
    {
     "data": {
      "text/plain": [
       "((24129, 94), (6033, 94))"
      ]
     },
     "execution_count": 16,
     "metadata": {},
     "output_type": "execute_result"
    }
   ],
   "source": [
    "X_train.shape, X_test.shape"
   ]
  },
  {
   "cell_type": "markdown",
   "id": "c7edda14",
   "metadata": {
    "papermill": {
     "duration": 0.016843,
     "end_time": "2023-09-08T09:33:48.425030",
     "exception": false,
     "start_time": "2023-09-08T09:33:48.408187",
     "status": "completed"
    },
    "tags": []
   },
   "source": [
    "# 1. Logistic regression"
   ]
  },
  {
   "cell_type": "code",
   "execution_count": 17,
   "id": "71bca601",
   "metadata": {
    "execution": {
     "iopub.execute_input": "2023-09-08T09:33:48.524342Z",
     "iopub.status.busy": "2023-09-08T09:33:48.523900Z",
     "iopub.status.idle": "2023-09-08T09:33:52.698156Z",
     "shell.execute_reply": "2023-09-08T09:33:52.696253Z"
    },
    "papermill": {
     "duration": 4.196543,
     "end_time": "2023-09-08T09:33:52.703031",
     "exception": false,
     "start_time": "2023-09-08T09:33:48.506488",
     "status": "completed"
    },
    "tags": []
   },
   "outputs": [
    {
     "data": {
      "text/html": [
       "<style>#sk-container-id-1 {color: black;background-color: white;}#sk-container-id-1 pre{padding: 0;}#sk-container-id-1 div.sk-toggleable {background-color: white;}#sk-container-id-1 label.sk-toggleable__label {cursor: pointer;display: block;width: 100%;margin-bottom: 0;padding: 0.3em;box-sizing: border-box;text-align: center;}#sk-container-id-1 label.sk-toggleable__label-arrow:before {content: \"▸\";float: left;margin-right: 0.25em;color: #696969;}#sk-container-id-1 label.sk-toggleable__label-arrow:hover:before {color: black;}#sk-container-id-1 div.sk-estimator:hover label.sk-toggleable__label-arrow:before {color: black;}#sk-container-id-1 div.sk-toggleable__content {max-height: 0;max-width: 0;overflow: hidden;text-align: left;background-color: #f0f8ff;}#sk-container-id-1 div.sk-toggleable__content pre {margin: 0.2em;color: black;border-radius: 0.25em;background-color: #f0f8ff;}#sk-container-id-1 input.sk-toggleable__control:checked~div.sk-toggleable__content {max-height: 200px;max-width: 100%;overflow: auto;}#sk-container-id-1 input.sk-toggleable__control:checked~label.sk-toggleable__label-arrow:before {content: \"▾\";}#sk-container-id-1 div.sk-estimator input.sk-toggleable__control:checked~label.sk-toggleable__label {background-color: #d4ebff;}#sk-container-id-1 div.sk-label input.sk-toggleable__control:checked~label.sk-toggleable__label {background-color: #d4ebff;}#sk-container-id-1 input.sk-hidden--visually {border: 0;clip: rect(1px 1px 1px 1px);clip: rect(1px, 1px, 1px, 1px);height: 1px;margin: -1px;overflow: hidden;padding: 0;position: absolute;width: 1px;}#sk-container-id-1 div.sk-estimator {font-family: monospace;background-color: #f0f8ff;border: 1px dotted black;border-radius: 0.25em;box-sizing: border-box;margin-bottom: 0.5em;}#sk-container-id-1 div.sk-estimator:hover {background-color: #d4ebff;}#sk-container-id-1 div.sk-parallel-item::after {content: \"\";width: 100%;border-bottom: 1px solid gray;flex-grow: 1;}#sk-container-id-1 div.sk-label:hover label.sk-toggleable__label {background-color: #d4ebff;}#sk-container-id-1 div.sk-serial::before {content: \"\";position: absolute;border-left: 1px solid gray;box-sizing: border-box;top: 0;bottom: 0;left: 50%;z-index: 0;}#sk-container-id-1 div.sk-serial {display: flex;flex-direction: column;align-items: center;background-color: white;padding-right: 0.2em;padding-left: 0.2em;position: relative;}#sk-container-id-1 div.sk-item {position: relative;z-index: 1;}#sk-container-id-1 div.sk-parallel {display: flex;align-items: stretch;justify-content: center;background-color: white;position: relative;}#sk-container-id-1 div.sk-item::before, #sk-container-id-1 div.sk-parallel-item::before {content: \"\";position: absolute;border-left: 1px solid gray;box-sizing: border-box;top: 0;bottom: 0;left: 50%;z-index: -1;}#sk-container-id-1 div.sk-parallel-item {display: flex;flex-direction: column;z-index: 1;position: relative;background-color: white;}#sk-container-id-1 div.sk-parallel-item:first-child::after {align-self: flex-end;width: 50%;}#sk-container-id-1 div.sk-parallel-item:last-child::after {align-self: flex-start;width: 50%;}#sk-container-id-1 div.sk-parallel-item:only-child::after {width: 0;}#sk-container-id-1 div.sk-dashed-wrapped {border: 1px dashed gray;margin: 0 0.4em 0.5em 0.4em;box-sizing: border-box;padding-bottom: 0.4em;background-color: white;}#sk-container-id-1 div.sk-label label {font-family: monospace;font-weight: bold;display: inline-block;line-height: 1.2em;}#sk-container-id-1 div.sk-label-container {text-align: center;}#sk-container-id-1 div.sk-container {/* jupyter's `normalize.less` sets `[hidden] { display: none; }` but bootstrap.min.css set `[hidden] { display: none !important; }` so we also need the `!important` here to be able to override the default hidden behavior on the sphinx rendered scikit-learn.org. See: https://github.com/scikit-learn/scikit-learn/issues/21755 */display: inline-block !important;position: relative;}#sk-container-id-1 div.sk-text-repr-fallback {display: none;}</style><div id=\"sk-container-id-1\" class=\"sk-top-container\"><div class=\"sk-text-repr-fallback\"><pre>GridSearchCV(cv=5, estimator=LogisticRegression(random_state=42), n_jobs=-1,\n",
       "             param_grid={&#x27;C&#x27;: [0.001, 0.01, 0.1, 1, 10, 100]},\n",
       "             scoring=&#x27;accuracy&#x27;)</pre><b>In a Jupyter environment, please rerun this cell to show the HTML representation or trust the notebook. <br />On GitHub, the HTML representation is unable to render, please try loading this page with nbviewer.org.</b></div><div class=\"sk-container\" hidden><div class=\"sk-item sk-dashed-wrapped\"><div class=\"sk-label-container\"><div class=\"sk-label sk-toggleable\"><input class=\"sk-toggleable__control sk-hidden--visually\" id=\"sk-estimator-id-1\" type=\"checkbox\" ><label for=\"sk-estimator-id-1\" class=\"sk-toggleable__label sk-toggleable__label-arrow\">GridSearchCV</label><div class=\"sk-toggleable__content\"><pre>GridSearchCV(cv=5, estimator=LogisticRegression(random_state=42), n_jobs=-1,\n",
       "             param_grid={&#x27;C&#x27;: [0.001, 0.01, 0.1, 1, 10, 100]},\n",
       "             scoring=&#x27;accuracy&#x27;)</pre></div></div></div><div class=\"sk-parallel\"><div class=\"sk-parallel-item\"><div class=\"sk-item\"><div class=\"sk-label-container\"><div class=\"sk-label sk-toggleable\"><input class=\"sk-toggleable__control sk-hidden--visually\" id=\"sk-estimator-id-2\" type=\"checkbox\" ><label for=\"sk-estimator-id-2\" class=\"sk-toggleable__label sk-toggleable__label-arrow\">estimator: LogisticRegression</label><div class=\"sk-toggleable__content\"><pre>LogisticRegression(random_state=42)</pre></div></div></div><div class=\"sk-serial\"><div class=\"sk-item\"><div class=\"sk-estimator sk-toggleable\"><input class=\"sk-toggleable__control sk-hidden--visually\" id=\"sk-estimator-id-3\" type=\"checkbox\" ><label for=\"sk-estimator-id-3\" class=\"sk-toggleable__label sk-toggleable__label-arrow\">LogisticRegression</label><div class=\"sk-toggleable__content\"><pre>LogisticRegression(random_state=42)</pre></div></div></div></div></div></div></div></div></div></div>"
      ],
      "text/plain": [
       "GridSearchCV(cv=5, estimator=LogisticRegression(random_state=42), n_jobs=-1,\n",
       "             param_grid={'C': [0.001, 0.01, 0.1, 1, 10, 100]},\n",
       "             scoring='accuracy')"
      ]
     },
     "execution_count": 17,
     "metadata": {},
     "output_type": "execute_result"
    }
   ],
   "source": [
    "from sklearn.linear_model import LogisticRegression\n",
    "logistic_regression = LogisticRegression(random_state=42)\n",
    "param_grid = {'C': [0.001, 0.01, 0.1, 1, 10, 100]}\n",
    "grid_search_lr = GridSearchCV(logistic_regression, param_grid, cv=5, scoring='accuracy', n_jobs=-1)\n",
    "grid_search_lr.fit(X_train, y_train)"
   ]
  },
  {
   "cell_type": "code",
   "execution_count": 18,
   "id": "14d3578d",
   "metadata": {
    "execution": {
     "iopub.execute_input": "2023-09-08T09:33:52.776233Z",
     "iopub.status.busy": "2023-09-08T09:33:52.775357Z",
     "iopub.status.idle": "2023-09-08T09:33:52.804284Z",
     "shell.execute_reply": "2023-09-08T09:33:52.802530Z"
    },
    "papermill": {
     "duration": 0.070909,
     "end_time": "2023-09-08T09:33:52.808885",
     "exception": false,
     "start_time": "2023-09-08T09:33:52.737976",
     "status": "completed"
    },
    "tags": []
   },
   "outputs": [
    {
     "name": "stdout",
     "output_type": "stream",
     "text": [
      "Linear regression Accuracy: 0.7473893585280955\n"
     ]
    }
   ],
   "source": [
    "best_logistic_regression = grid_search_lr.best_estimator_\n",
    "y_pred_lr = best_logistic_regression.predict(X_test)\n",
    "\n",
    "from sklearn.metrics import accuracy_score\n",
    "\n",
    "accuracy = accuracy_score(y_test, y_pred_lr)\n",
    "print(\"Linear regression Accuracy:\", accuracy)"
   ]
  },
  {
   "cell_type": "markdown",
   "id": "1f19c2ff",
   "metadata": {
    "papermill": {
     "duration": 0.033816,
     "end_time": "2023-09-08T09:33:52.877674",
     "exception": false,
     "start_time": "2023-09-08T09:33:52.843858",
     "status": "completed"
    },
    "tags": []
   },
   "source": [
    "Not a good accuracy"
   ]
  },
  {
   "cell_type": "markdown",
   "id": "81d9c5ef",
   "metadata": {
    "papermill": {
     "duration": 0.01851,
     "end_time": "2023-09-08T09:33:52.931586",
     "exception": false,
     "start_time": "2023-09-08T09:33:52.913076",
     "status": "completed"
    },
    "tags": []
   },
   "source": [
    "# 2. SVC"
   ]
  },
  {
   "cell_type": "code",
   "execution_count": 19,
   "id": "d377bec0",
   "metadata": {
    "execution": {
     "iopub.execute_input": "2023-09-08T09:33:52.966966Z",
     "iopub.status.busy": "2023-09-08T09:33:52.965781Z",
     "iopub.status.idle": "2023-09-08T09:34:38.917158Z",
     "shell.execute_reply": "2023-09-08T09:34:38.915970Z"
    },
    "papermill": {
     "duration": 45.988476,
     "end_time": "2023-09-08T09:34:38.936612",
     "exception": false,
     "start_time": "2023-09-08T09:33:52.948136",
     "status": "completed"
    },
    "tags": []
   },
   "outputs": [
    {
     "name": "stdout",
     "output_type": "stream",
     "text": [
      "SVC's Accuracy: 0.7473893585280955\n"
     ]
    }
   ],
   "source": [
    "from sklearn.svm import SVC\n",
    "svm_classifier = SVC(kernel='rbf', C=1.0, random_state=42)\n",
    "svm_classifier.fit(X_train, y_train)\n",
    "y_pred_svm = svm_classifier.predict(X_test)\n",
    "accuracy_svm = accuracy_score(y_test, y_pred_svm)\n",
    "print(\"SVC's Accuracy:\", accuracy_svm)"
   ]
  },
  {
   "cell_type": "markdown",
   "id": "86226dfe",
   "metadata": {
    "papermill": {
     "duration": 0.016207,
     "end_time": "2023-09-08T09:34:38.969527",
     "exception": false,
     "start_time": "2023-09-08T09:34:38.953320",
     "status": "completed"
    },
    "tags": []
   },
   "source": [
    "# 3.XGboost"
   ]
  },
  {
   "cell_type": "code",
   "execution_count": 20,
   "id": "8af0aaf2",
   "metadata": {
    "execution": {
     "iopub.execute_input": "2023-09-08T09:34:39.003959Z",
     "iopub.status.busy": "2023-09-08T09:34:39.003508Z",
     "iopub.status.idle": "2023-09-08T09:34:44.277722Z",
     "shell.execute_reply": "2023-09-08T09:34:44.276778Z"
    },
    "papermill": {
     "duration": 5.294769,
     "end_time": "2023-09-08T09:34:44.280652",
     "exception": false,
     "start_time": "2023-09-08T09:34:38.985883",
     "status": "completed"
    },
    "tags": []
   },
   "outputs": [
    {
     "name": "stdout",
     "output_type": "stream",
     "text": [
      "XGboost's Accuracy: 0.8319244157135753\n"
     ]
    }
   ],
   "source": [
    "import xgboost as xgb\n",
    "\n",
    "xgb_classifier = xgb.XGBClassifier(objective=\"binary:logistic\", random_state=42)\n",
    "xgb_classifier.fit(X_train, y_train)\n",
    "y_pred_xgb = xgb_classifier.predict(X_test)\n",
    "accuracy_xgb = accuracy_score(y_test, y_pred_xgb)\n",
    "print(\"XGboost's Accuracy:\", accuracy_xgb)"
   ]
  },
  {
   "cell_type": "markdown",
   "id": "6fe492ee",
   "metadata": {
    "papermill": {
     "duration": 0.018228,
     "end_time": "2023-09-08T09:34:44.315930",
     "exception": false,
     "start_time": "2023-09-08T09:34:44.297702",
     "status": "completed"
    },
    "tags": []
   },
   "source": [
    "# 4.Naive bayes"
   ]
  },
  {
   "cell_type": "code",
   "execution_count": 21,
   "id": "132b929e",
   "metadata": {
    "execution": {
     "iopub.execute_input": "2023-09-08T09:34:44.350236Z",
     "iopub.status.busy": "2023-09-08T09:34:44.349828Z",
     "iopub.status.idle": "2023-09-08T09:34:44.429329Z",
     "shell.execute_reply": "2023-09-08T09:34:44.428047Z"
    },
    "papermill": {
     "duration": 0.099857,
     "end_time": "2023-09-08T09:34:44.432180",
     "exception": false,
     "start_time": "2023-09-08T09:34:44.332323",
     "status": "completed"
    },
    "tags": []
   },
   "outputs": [
    {
     "name": "stdout",
     "output_type": "stream",
     "text": [
      "Naive Bayes's Accuracy: 0.7546825791480192\n"
     ]
    }
   ],
   "source": [
    "from sklearn.naive_bayes import GaussianNB\n",
    "naive_bayes_classifier = GaussianNB()\n",
    "\n",
    "naive_bayes_classifier.fit(X_train, y_train)\n",
    "\n",
    "y_pred_naive_bayes = naive_bayes_classifier.predict(X_test)\n",
    "\n",
    "accuracy = accuracy_score(y_test, y_pred_naive_bayes)\n",
    "print(\"Naive Bayes's Accuracy:\", accuracy)"
   ]
  },
  {
   "cell_type": "markdown",
   "id": "f1af4419",
   "metadata": {
    "papermill": {
     "duration": 0.015746,
     "end_time": "2023-09-08T09:34:44.464514",
     "exception": false,
     "start_time": "2023-09-08T09:34:44.448768",
     "status": "completed"
    },
    "tags": []
   },
   "source": [
    "# 5.Random Forest "
   ]
  },
  {
   "cell_type": "code",
   "execution_count": 22,
   "id": "1b35c46e",
   "metadata": {
    "execution": {
     "iopub.execute_input": "2023-09-08T09:34:44.498832Z",
     "iopub.status.busy": "2023-09-08T09:34:44.498452Z",
     "iopub.status.idle": "2023-09-08T09:34:44.796796Z",
     "shell.execute_reply": "2023-09-08T09:34:44.795449Z"
    },
    "papermill": {
     "duration": 0.318873,
     "end_time": "2023-09-08T09:34:44.799689",
     "exception": false,
     "start_time": "2023-09-08T09:34:44.480816",
     "status": "completed"
    },
    "tags": []
   },
   "outputs": [],
   "source": [
    "from sklearn.ensemble import RandomForestClassifier\n",
    "model = RandomForestClassifier(random_state=42)\n",
    "param_grid = {\n",
    "    'n_estimators': [50, 100, 200],\n",
    "    'max_depth': [None, 10, 20],\n",
    "    'min_samples_split': [2, 5, 10],\n",
    "}\n"
   ]
  },
  {
   "cell_type": "code",
   "execution_count": 23,
   "id": "bd2b8f9f",
   "metadata": {
    "execution": {
     "iopub.execute_input": "2023-09-08T09:34:44.834727Z",
     "iopub.status.busy": "2023-09-08T09:34:44.834043Z",
     "iopub.status.idle": "2023-09-08T09:37:46.583064Z",
     "shell.execute_reply": "2023-09-08T09:37:46.581831Z"
    },
    "papermill": {
     "duration": 181.78639,
     "end_time": "2023-09-08T09:37:46.602633",
     "exception": false,
     "start_time": "2023-09-08T09:34:44.816243",
     "status": "completed"
    },
    "tags": []
   },
   "outputs": [
    {
     "data": {
      "text/html": [
       "<style>#sk-container-id-2 {color: black;background-color: white;}#sk-container-id-2 pre{padding: 0;}#sk-container-id-2 div.sk-toggleable {background-color: white;}#sk-container-id-2 label.sk-toggleable__label {cursor: pointer;display: block;width: 100%;margin-bottom: 0;padding: 0.3em;box-sizing: border-box;text-align: center;}#sk-container-id-2 label.sk-toggleable__label-arrow:before {content: \"▸\";float: left;margin-right: 0.25em;color: #696969;}#sk-container-id-2 label.sk-toggleable__label-arrow:hover:before {color: black;}#sk-container-id-2 div.sk-estimator:hover label.sk-toggleable__label-arrow:before {color: black;}#sk-container-id-2 div.sk-toggleable__content {max-height: 0;max-width: 0;overflow: hidden;text-align: left;background-color: #f0f8ff;}#sk-container-id-2 div.sk-toggleable__content pre {margin: 0.2em;color: black;border-radius: 0.25em;background-color: #f0f8ff;}#sk-container-id-2 input.sk-toggleable__control:checked~div.sk-toggleable__content {max-height: 200px;max-width: 100%;overflow: auto;}#sk-container-id-2 input.sk-toggleable__control:checked~label.sk-toggleable__label-arrow:before {content: \"▾\";}#sk-container-id-2 div.sk-estimator input.sk-toggleable__control:checked~label.sk-toggleable__label {background-color: #d4ebff;}#sk-container-id-2 div.sk-label input.sk-toggleable__control:checked~label.sk-toggleable__label {background-color: #d4ebff;}#sk-container-id-2 input.sk-hidden--visually {border: 0;clip: rect(1px 1px 1px 1px);clip: rect(1px, 1px, 1px, 1px);height: 1px;margin: -1px;overflow: hidden;padding: 0;position: absolute;width: 1px;}#sk-container-id-2 div.sk-estimator {font-family: monospace;background-color: #f0f8ff;border: 1px dotted black;border-radius: 0.25em;box-sizing: border-box;margin-bottom: 0.5em;}#sk-container-id-2 div.sk-estimator:hover {background-color: #d4ebff;}#sk-container-id-2 div.sk-parallel-item::after {content: \"\";width: 100%;border-bottom: 1px solid gray;flex-grow: 1;}#sk-container-id-2 div.sk-label:hover label.sk-toggleable__label {background-color: #d4ebff;}#sk-container-id-2 div.sk-serial::before {content: \"\";position: absolute;border-left: 1px solid gray;box-sizing: border-box;top: 0;bottom: 0;left: 50%;z-index: 0;}#sk-container-id-2 div.sk-serial {display: flex;flex-direction: column;align-items: center;background-color: white;padding-right: 0.2em;padding-left: 0.2em;position: relative;}#sk-container-id-2 div.sk-item {position: relative;z-index: 1;}#sk-container-id-2 div.sk-parallel {display: flex;align-items: stretch;justify-content: center;background-color: white;position: relative;}#sk-container-id-2 div.sk-item::before, #sk-container-id-2 div.sk-parallel-item::before {content: \"\";position: absolute;border-left: 1px solid gray;box-sizing: border-box;top: 0;bottom: 0;left: 50%;z-index: -1;}#sk-container-id-2 div.sk-parallel-item {display: flex;flex-direction: column;z-index: 1;position: relative;background-color: white;}#sk-container-id-2 div.sk-parallel-item:first-child::after {align-self: flex-end;width: 50%;}#sk-container-id-2 div.sk-parallel-item:last-child::after {align-self: flex-start;width: 50%;}#sk-container-id-2 div.sk-parallel-item:only-child::after {width: 0;}#sk-container-id-2 div.sk-dashed-wrapped {border: 1px dashed gray;margin: 0 0.4em 0.5em 0.4em;box-sizing: border-box;padding-bottom: 0.4em;background-color: white;}#sk-container-id-2 div.sk-label label {font-family: monospace;font-weight: bold;display: inline-block;line-height: 1.2em;}#sk-container-id-2 div.sk-label-container {text-align: center;}#sk-container-id-2 div.sk-container {/* jupyter's `normalize.less` sets `[hidden] { display: none; }` but bootstrap.min.css set `[hidden] { display: none !important; }` so we also need the `!important` here to be able to override the default hidden behavior on the sphinx rendered scikit-learn.org. See: https://github.com/scikit-learn/scikit-learn/issues/21755 */display: inline-block !important;position: relative;}#sk-container-id-2 div.sk-text-repr-fallback {display: none;}</style><div id=\"sk-container-id-2\" class=\"sk-top-container\"><div class=\"sk-text-repr-fallback\"><pre>GridSearchCV(cv=5, estimator=RandomForestClassifier(random_state=42), n_jobs=-1,\n",
       "             param_grid={&#x27;max_depth&#x27;: [None, 10, 20],\n",
       "                         &#x27;min_samples_split&#x27;: [2, 5, 10],\n",
       "                         &#x27;n_estimators&#x27;: [50, 100, 200]},\n",
       "             scoring=&#x27;accuracy&#x27;)</pre><b>In a Jupyter environment, please rerun this cell to show the HTML representation or trust the notebook. <br />On GitHub, the HTML representation is unable to render, please try loading this page with nbviewer.org.</b></div><div class=\"sk-container\" hidden><div class=\"sk-item sk-dashed-wrapped\"><div class=\"sk-label-container\"><div class=\"sk-label sk-toggleable\"><input class=\"sk-toggleable__control sk-hidden--visually\" id=\"sk-estimator-id-4\" type=\"checkbox\" ><label for=\"sk-estimator-id-4\" class=\"sk-toggleable__label sk-toggleable__label-arrow\">GridSearchCV</label><div class=\"sk-toggleable__content\"><pre>GridSearchCV(cv=5, estimator=RandomForestClassifier(random_state=42), n_jobs=-1,\n",
       "             param_grid={&#x27;max_depth&#x27;: [None, 10, 20],\n",
       "                         &#x27;min_samples_split&#x27;: [2, 5, 10],\n",
       "                         &#x27;n_estimators&#x27;: [50, 100, 200]},\n",
       "             scoring=&#x27;accuracy&#x27;)</pre></div></div></div><div class=\"sk-parallel\"><div class=\"sk-parallel-item\"><div class=\"sk-item\"><div class=\"sk-label-container\"><div class=\"sk-label sk-toggleable\"><input class=\"sk-toggleable__control sk-hidden--visually\" id=\"sk-estimator-id-5\" type=\"checkbox\" ><label for=\"sk-estimator-id-5\" class=\"sk-toggleable__label sk-toggleable__label-arrow\">estimator: RandomForestClassifier</label><div class=\"sk-toggleable__content\"><pre>RandomForestClassifier(random_state=42)</pre></div></div></div><div class=\"sk-serial\"><div class=\"sk-item\"><div class=\"sk-estimator sk-toggleable\"><input class=\"sk-toggleable__control sk-hidden--visually\" id=\"sk-estimator-id-6\" type=\"checkbox\" ><label for=\"sk-estimator-id-6\" class=\"sk-toggleable__label sk-toggleable__label-arrow\">RandomForestClassifier</label><div class=\"sk-toggleable__content\"><pre>RandomForestClassifier(random_state=42)</pre></div></div></div></div></div></div></div></div></div></div>"
      ],
      "text/plain": [
       "GridSearchCV(cv=5, estimator=RandomForestClassifier(random_state=42), n_jobs=-1,\n",
       "             param_grid={'max_depth': [None, 10, 20],\n",
       "                         'min_samples_split': [2, 5, 10],\n",
       "                         'n_estimators': [50, 100, 200]},\n",
       "             scoring='accuracy')"
      ]
     },
     "execution_count": 23,
     "metadata": {},
     "output_type": "execute_result"
    }
   ],
   "source": [
    "grid_search_rf = GridSearchCV(model, param_grid, cv=5, scoring='accuracy', n_jobs=-1)\n",
    "grid_search_rf.fit(X, y)"
   ]
  },
  {
   "cell_type": "code",
   "execution_count": 24,
   "id": "8bff923b",
   "metadata": {
    "execution": {
     "iopub.execute_input": "2023-09-08T09:37:46.637460Z",
     "iopub.status.busy": "2023-09-08T09:37:46.637036Z",
     "iopub.status.idle": "2023-09-08T09:37:46.814995Z",
     "shell.execute_reply": "2023-09-08T09:37:46.814202Z"
    },
    "papermill": {
     "duration": 0.197955,
     "end_time": "2023-09-08T09:37:46.817146",
     "exception": false,
     "start_time": "2023-09-08T09:37:46.619191",
     "status": "completed"
    },
    "tags": []
   },
   "outputs": [
    {
     "data": {
      "text/plain": [
       "0.8339134758826454"
      ]
     },
     "execution_count": 24,
     "metadata": {},
     "output_type": "execute_result"
    }
   ],
   "source": [
    "best_RF_model = grid_search_rf.best_estimator_\n",
    "y_pred_rf=best_RF_model.predict(X_test)\n",
    "accuracy = accuracy_score(y_test, y_pred_rf)\n",
    "\n",
    "accuracy"
   ]
  },
  {
   "cell_type": "markdown",
   "id": "958601a0",
   "metadata": {
    "papermill": {
     "duration": 0.016375,
     "end_time": "2023-09-08T09:37:46.850431",
     "exception": false,
     "start_time": "2023-09-08T09:37:46.834056",
     "status": "completed"
    },
    "tags": []
   },
   "source": [
    "So far Random forest and XGboost have worked better."
   ]
  },
  {
   "cell_type": "code",
   "execution_count": null,
   "id": "ec19f55f",
   "metadata": {
    "papermill": {
     "duration": 0.016321,
     "end_time": "2023-09-08T09:37:46.883090",
     "exception": false,
     "start_time": "2023-09-08T09:37:46.866769",
     "status": "completed"
    },
    "tags": []
   },
   "outputs": [],
   "source": []
  }
 ],
 "metadata": {
  "kernelspec": {
   "display_name": "Python 3 (ipykernel)",
   "language": "python",
   "name": "python3"
  },
  "language_info": {
   "codemirror_mode": {
    "name": "ipython",
    "version": 3
   },
   "file_extension": ".py",
   "mimetype": "text/x-python",
   "name": "python",
   "nbconvert_exporter": "python",
   "pygments_lexer": "ipython3",
   "version": "3.10.9"
  },
  "papermill": {
   "default_parameters": {},
   "duration": 248.066955,
   "end_time": "2023-09-08T09:37:49.521764",
   "environment_variables": {},
   "exception": null,
   "input_path": "__notebook__.ipynb",
   "output_path": "__notebook__.ipynb",
   "parameters": {},
   "start_time": "2023-09-08T09:33:41.454809",
   "version": "2.4.0"
  }
 },
 "nbformat": 4,
 "nbformat_minor": 5
}
